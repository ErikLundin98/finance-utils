{
 "metadata": {
  "language_info": {
   "codemirror_mode": {
    "name": "ipython",
    "version": 3
   },
   "file_extension": ".py",
   "mimetype": "text/x-python",
   "name": "python",
   "nbconvert_exporter": "python",
   "pygments_lexer": "ipython3",
   "version": "3.9.5"
  },
  "orig_nbformat": 4,
  "kernelspec": {
   "name": "python3",
   "display_name": "Python 3.9.5 64-bit"
  },
  "interpreter": {
   "hash": "5704e1215c2bcb375bf7c5a689a52043377281531a9e7548dac3f1db99abf580"
  }
 },
 "nbformat": 4,
 "nbformat_minor": 2,
 "cells": [
  {
   "source": [
    "# Fetching financial data\n",
    "\n",
    "First, figure out how to fetch historical data\n"
   ],
   "cell_type": "markdown",
   "metadata": {}
  },
  {
   "source": [
    "import pandas as pd\n",
    "# Retrieve tickers that should be used\n",
    "# TODO: Include openpyxl, pandas in req\n",
    "\n",
    "tickers_df = pd.read_excel('stocks.xlsx', sheet_name=['Dev'])['Dev']\n",
    "\n",
    "tickers_df.head(5)"
   ],
   "cell_type": "code",
   "metadata": {},
   "execution_count": 18,
   "outputs": [
    {
     "output_type": "execute_result",
     "data": {
      "text/plain": [
       "         Name Ticker_raw     Ticker\n",
       "0      TRATON       8TRA    8TRA.ST\n",
       "1         AAK        AAK     AAK.ST\n",
       "2     ABB Ltd        ABB     ABB.ST\n",
       "3   Addtech B     ADDT-B  ADDT-B.ST\n",
       "4  ÅF Pöyry B       AF-B    AF-B.ST"
      ],
      "text/html": "<div>\n<style scoped>\n    .dataframe tbody tr th:only-of-type {\n        vertical-align: middle;\n    }\n\n    .dataframe tbody tr th {\n        vertical-align: top;\n    }\n\n    .dataframe thead th {\n        text-align: right;\n    }\n</style>\n<table border=\"1\" class=\"dataframe\">\n  <thead>\n    <tr style=\"text-align: right;\">\n      <th></th>\n      <th>Name</th>\n      <th>Ticker_raw</th>\n      <th>Ticker</th>\n    </tr>\n  </thead>\n  <tbody>\n    <tr>\n      <th>0</th>\n      <td>TRATON</td>\n      <td>8TRA</td>\n      <td>8TRA.ST</td>\n    </tr>\n    <tr>\n      <th>1</th>\n      <td>AAK</td>\n      <td>AAK</td>\n      <td>AAK.ST</td>\n    </tr>\n    <tr>\n      <th>2</th>\n      <td>ABB Ltd</td>\n      <td>ABB</td>\n      <td>ABB.ST</td>\n    </tr>\n    <tr>\n      <th>3</th>\n      <td>Addtech B</td>\n      <td>ADDT-B</td>\n      <td>ADDT-B.ST</td>\n    </tr>\n    <tr>\n      <th>4</th>\n      <td>ÅF Pöyry B</td>\n      <td>AF-B</td>\n      <td>AF-B.ST</td>\n    </tr>\n  </tbody>\n</table>\n</div>"
     },
     "metadata": {},
     "execution_count": 18
    }
   ]
  },
  {
   "cell_type": "code",
   "execution_count": 15,
   "metadata": {},
   "outputs": [],
   "source": [
    "import yfinance as yf\n",
    "\n",
    "'''\n",
    "valid periods: 1d,5d,1mo,3mo,6mo,1y,2y,5y,10y,ytd,max\n",
    "'''\n",
    "def query_prices(tickers: list, period='max') -> list: # returns list of dataframes\n",
    "    dataframes = []\n",
    "    for ticker in tickers:\n",
    "        t = yf.Ticker(ticker)\n",
    "        dataframes.append(t.history(period='max'))\n",
    "    return dataframes\n"
   ]
  },
  {
   "cell_type": "code",
   "execution_count": 19,
   "metadata": {},
   "outputs": [],
   "source": [
    "prices = query_prices(tickers_df['Ticker'])"
   ]
  },
  {
   "cell_type": "code",
   "execution_count": 22,
   "metadata": {
    "tags": []
   },
   "outputs": [
    {
     "output_type": "stream",
     "name": "stdout",
     "text": [
      "                  Open        High         Low       Close   Volume  \\\nDate                                                                  \n2019-06-28  279.623641  281.463604  275.993463  277.037750  1121793   \n2019-07-01  281.463618  283.054938  277.485334  282.955475   283014   \n\n            Dividends  Stock Splits  \nDate                                 \n2019-06-28        0.0             0  \n2019-07-01        0.0             0  \n                 Open       High        Low      Close  Volume  Dividends  \\\nDate                                                                        \n2005-09-29  15.696814  15.806199  15.478043  15.478043   74400        0.0   \n2005-09-30  15.532736  15.642121  15.423351  15.642121  148200        0.0   \n\n            Stock Splits  \nDate                      \n2005-09-29           0.0  \n2005-09-30           0.0  \n                  Open        High         Low       Close   Volume  \\\nDate                                                                  \n2001-05-08  139.221279  139.961813  137.369930  138.850998   974886   \n2001-05-09  137.740197  139.961813  136.999649  138.850998  1106765   \n\n            Dividends  Stock Splits  \nDate                                 \n2001-05-08        0.0             0  \n2001-05-09        0.0             0  \n                 Open       High        Low      Close  Volume  Dividends  \\\nDate                                                                        \n2000-01-03  19.665125  20.841671  19.665125  20.841671  137695        0.0   \n2000-01-04  20.673593  20.673593  19.497046  20.253397   27747        0.0   \n\n            Stock Splits  \nDate                      \n2000-01-03           0.0  \n2000-01-04           0.0  \n                Open      High       Low     Close  Volume  Dividends  \\\nDate                                                                    \n2000-01-03  7.361017  7.415142  6.873891  7.009204  643700        0.0   \n2000-01-04  6.982141  6.982141  6.440890  6.765640  449323        0.0   \n\n            Stock Splits  \nDate                      \n2000-01-03           0.0  \n2000-01-04           0.0  \n                 Open       High        Low      Close    Volume  Dividends  \\\nDate                                                                          \n2002-05-17  14.910524  15.545014  14.672590  15.545014  99054380        0.0   \n2002-05-20  15.545014  15.545014  15.545014  15.545014         0        0.0   \n\n            Stock Splits  \nDate                      \n2002-05-17           0.0  \n2002-05-20           0.0  \n                  Open        High        Low       Close   Volume  Dividends  \\\nDate                                                                            \n2000-01-03  208.020964  211.757868  206.77533  206.775330  1199819        0.0   \n2000-01-04  203.453666  204.284089  199.30155  200.131973   273304        0.0   \n\n            Stock Splits  \nDate                      \n2000-01-03             0  \n2000-01-04             0  \n                Open      High       Low     Close    Volume  Dividends  \\\nDate                                                                      \n2018-06-15  1.224026  1.308766  1.208961  1.283344  34133806        0.0   \n2018-06-18  1.289935  1.314416  1.242857  1.284474   2718522        0.0   \n\n            Stock Splits  \nDate                      \n2018-06-15             0  \n2018-06-18             0  \n                 Open       High        Low      Close    Volume  Dividends  \\\nDate                                                                          \n2017-12-12  24.254447  24.692892  22.855152  22.976423  22112907        0.0   \n2017-12-13  22.948437  23.498827  22.677906  22.715221  10474564        0.0   \n\n            Stock Splits  \nDate                      \n2017-12-12             0  \n2017-12-13             0  \n                 Open       High        Low      Close     Volume  Dividends  \\\nDate                                                                           \n2000-01-03  26.879021  28.211865  26.656881  26.656881   410919.0        0.0   \n2000-01-04  26.879019  26.879019  25.324036  25.324036  1681974.0        0.0   \n\n            Stock Splits  \nDate                      \n2000-01-03           0.0  \n2000-01-04           0.0  \n                 Open       High        Low      Close   Volume  Dividends  \\\nDate                                                                         \n2000-01-03  17.326024  17.915109  17.187417  17.811153  3285528        0.0   \n2000-01-04  17.637892  17.637892  16.979502  17.014154  7499032        0.0   \n\n            Stock Splits  \nDate                      \n2000-01-03           0.0  \n2000-01-04           0.0  \n                 Open       High        Low      Close   Volume  Dividends  \\\nDate                                                                         \n1999-12-01  13.059399  13.059399  12.218665  12.975326  1960793        0.0   \n1999-12-02  13.731988  13.731988  13.031377  13.507792  1318399        0.0   \n\n            Stock Splits  \nDate                      \n1999-12-01           0.0  \n1999-12-02           0.0  \n                Open      High       Low     Close  Volume  Dividends  \\\nDate                                                                    \n2000-01-04  5.951856  5.951856  5.951856  5.951856    1600        0.0   \n2000-01-05  5.951856  5.951856  5.951856  5.951856       0        0.0   \n\n            Stock Splits  \nDate                      \n2000-01-04           0.0  \n2000-01-05           0.0  \n                Open      High       Low     Close  Volume  Dividends  \\\nDate                                                                    \n2000-02-21  7.957865  8.526284  7.957865  8.185232  449816        0.0   \n2000-02-22  8.526282  8.526282  8.185231  8.242073  229280        0.0   \n\n            Stock Splits  \nDate                      \n2000-02-21           0.0  \n2000-02-22           0.0  \n                 Open       High        Low      Close  Volume  Dividends  \\\nDate                                                                        \n2000-01-03  36.951114  37.155264  34.705466  35.930367   39432        0.0   \n2000-01-04  35.113761  35.522064  33.684715  34.093014   27829        0.0   \n\n            Stock Splits  \nDate                      \n2000-01-03           0.0  \n2000-01-04           0.0  \n                  Open        High         Low       Close     Volume  \\\nDate                                                                    \n2000-01-03  295.019224  297.944344  289.168985  290.422607   747184.0   \n2000-01-04  289.168981  290.840478  278.722125  281.229370  2738295.0   \n\n            Dividends  Stock Splits  \nDate                                 \n2000-01-03        0.0             0  \n2000-01-04        0.0             0  \n                   Open         High          Low        Close  Volume  \\\nDate                                                                     \n2000-01-03  1553.221274  1553.221274  1329.557368  1497.305298      18   \n2000-01-04  1466.240772  1515.943936  1379.260403  1416.537720      13   \n\n            Dividends  Stock Splits  \nDate                                 \n2000-01-03        0.0           0.0  \n2000-01-04        0.0           0.0  \n                 Open       High        Low     Close   Volume  Dividends  \\\nDate                                                                        \n2000-01-03  12.556505  13.197143  12.556505  12.81276  24000.0        0.0   \n2000-01-04  12.812760  12.812760  12.812760  12.81276   2400.0        0.0   \n\n            Stock Splits  \nDate                      \n2000-01-03           0.0  \n2000-01-04           0.0  \n                 Open       High        Low      Close  Volume  Dividends  \\\nDate                                                                        \n2000-06-26  27.307251  27.307251  24.917867  25.941889   31472        0.0   \n2000-06-27  25.737087  25.737087  22.528484  23.893847   18925        0.0   \n\n            Stock Splits  \nDate                      \n2000-06-26           0.0  \n2000-06-27           0.0  \n"
     ]
    }
   ],
   "source": [
    "for price_history in prices:\n",
    "    print(price_history.head(2))"
   ]
  },
  {
   "cell_type": "code",
   "execution_count": 27,
   "metadata": {},
   "outputs": [],
   "source": [
    "# now to the database creation\n",
    "import sqlalchemy\n",
    "from sqlalchemy_utils import database_exists, create_database\n",
    "engine = sqlalchemy.create_engine('sqlite:///../finance.db')\n",
    "if not database_exists(engine.url):\n",
    "    create_database(engine.url)\n"
   ]
  },
  {
   "cell_type": "code",
   "execution_count": null,
   "metadata": {},
   "outputs": [],
   "source": [
    "# store the full-history price dataframes in the database as tables\n",
    "for price_df in prices:\n",
    "    price_df.to_sql()"
   ]
  }
 ]
}